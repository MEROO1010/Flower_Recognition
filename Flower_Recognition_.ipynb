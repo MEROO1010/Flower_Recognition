{
  "nbformat": 4,
  "nbformat_minor": 0,
  "metadata": {
    "colab": {
      "provenance": [],
      "authorship_tag": "ABX9TyMgnXfSz+IxWjvHcOu9EKjp",
      "include_colab_link": true
    },
    "kernelspec": {
      "name": "python3",
      "display_name": "Python 3"
    },
    "language_info": {
      "name": "python"
    }
  },
  "cells": [
    {
      "cell_type": "markdown",
      "metadata": {
        "id": "view-in-github",
        "colab_type": "text"
      },
      "source": [
        "<a href=\"https://colab.research.google.com/github/MEROO1010/Flower_Recognition/blob/main/Flower_Recognition_.ipynb\" target=\"_parent\"><img src=\"https://colab.research.google.com/assets/colab-badge.svg\" alt=\"Open In Colab\"/></a>"
      ]
    },
    {
      "cell_type": "code",
      "execution_count": null,
      "metadata": {
        "id": "L5MpEArh3Kir"
      },
      "outputs": [],
      "source": [
        "import os\n",
        "\n",
        "folder_name = \"flowers/danelion\"\n",
        "\n",
        "os.makedirs(folder_name, exist_ok=True)"
      ]
    },
    {
      "cell_type": "markdown",
      "source": [
        "#**Importing modules**"
      ],
      "metadata": {
        "id": "FZaXxwxJg3su"
      }
    },
    {
      "cell_type": "code",
      "source": [
        "import numpy as np\n",
        "import pandas as pd\n",
        "import cv2\n",
        "import matplotlib.pyplot as plt\n",
        "from PIL import Image\n",
        "from tensorflow.keras import layers\n",
        "from tensorflow.keras.preprocessing.image import ImageDataGenerator, load_img\n",
        "from tensorflow.keras.models import Sequential\n",
        "from tensorflow.keras.layers import Conv2D, MaxPooling2D\n",
        "from tensorflow.keras.layers import Activation, Dropout, Flatten, Dense\n",
        "from tensorflow.keras.optimizers import Adam\n",
        "import tensorflow as tf\n",
        "import os\n"
      ],
      "metadata": {
        "id": "-sZ0LN6Ds42b"
      },
      "execution_count": 22,
      "outputs": []
    },
    {
      "cell_type": "markdown",
      "source": [
        "#**Importing Dataset and Preprocessing**"
      ],
      "metadata": {
        "id": "0DpZb2pVhZvC"
      }
    },
    {
      "cell_type": "code",
      "source": [
        "base_dir = '/content/flowers'\n",
        "\n",
        "img_size = 224\n",
        "batch = 64\n"
      ],
      "metadata": {
        "id": "qzWx4DJThcRo"
      },
      "execution_count": 23,
      "outputs": []
    },
    {
      "cell_type": "markdown",
      "source": [
        "# **Image Data Generator**"
      ],
      "metadata": {
        "id": "G5qcBOGShkn6"
      }
    },
    {
      "cell_type": "code",
      "source": [
        "# Create a data augmentor\n",
        "train_datagen = ImageDataGenerator(rescale=1. / 255, shear_range=0.2,\n",
        "\t\t\t\t\t\t\t\tzoom_range=0.2, horizontal_flip=True,\n",
        "\t\t\t\t\t\t\t\tvalidation_split=0.2)\n",
        "\n",
        "test_datagen = ImageDataGenerator(rescale=1. / 255,\n",
        "\t\t\t\t\t\t\t\tvalidation_split=0.2)\n",
        "\n",
        "# Create datasets\n",
        "train_datagen = train_datagen.flow_from_directory(base_dir,\n",
        "\t\t\t\t\t\t\t\t\t\t\t\ttarget_size=(\n",
        "\t\t\t\t\t\t\t\t\t\t\t\t\timg_size, img_size),\n",
        "\t\t\t\t\t\t\t\t\t\t\t\tsubset='training',\n",
        "\t\t\t\t\t\t\t\t\t\t\t\tbatch_size=batch)\n",
        "test_datagen = test_datagen.flow_from_directory(base_dir,\n",
        "\t\t\t\t\t\t\t\t\t\t\t\ttarget_size=(\n",
        "\t\t\t\t\t\t\t\t\t\t\t\t\timg_size, img_size),\n",
        "\t\t\t\t\t\t\t\t\t\t\t\tsubset='validation',\n",
        "\t\t\t\t\t\t\t\t\t\t\t\tbatch_size=batch)\n"
      ],
      "metadata": {
        "colab": {
          "base_uri": "https://localhost:8080/"
        },
        "id": "O8a2Hnmmhqj_",
        "outputId": "ac98083f-7cef-44c8-8750-263027e6a0a7"
      },
      "execution_count": 24,
      "outputs": [
        {
          "output_type": "stream",
          "name": "stdout",
          "text": [
            "Found 3457 images belonging to 5 classes.\n",
            "Found 860 images belonging to 5 classes.\n"
          ]
        }
      ]
    },
    {
      "cell_type": "code",
      "source": [
        "# # modelling starts using a CNN.\n",
        "\n",
        "model = Sequential()\n",
        "model.add(Conv2D(filters=64, kernel_size=(5, 5), padding='same',\n",
        "\t\t\t\tactivation='relu', input_shape=(224, 224, 3)))\n",
        "model.add(MaxPooling2D(pool_size=(2, 2)))\n",
        "\n",
        "\n",
        "model.add(Conv2D(filters=64, kernel_size=(3, 3),\n",
        "\t\t\t\tpadding='same', activation='relu'))\n",
        "model.add(MaxPooling2D(pool_size=(2, 2), strides=(2, 2)))\n",
        "\n",
        "\n",
        "model.add(Conv2D(filters=64, kernel_size=(3, 3),\n",
        "\t\t\t\tpadding='same', activation='relu'))\n",
        "model.add(MaxPooling2D(pool_size=(2, 2), strides=(2, 2)))\n",
        "\n",
        "model.add(Conv2D(filters=64, kernel_size=(3, 3),\n",
        "\t\t\t\tpadding='same', activation='relu'))\n",
        "model.add(MaxPooling2D(pool_size=(2, 2), strides=(2, 2)))\n",
        "\n",
        "model.add(Flatten())\n",
        "model.add(Dense(512))\n",
        "model.add(Activation('relu'))\n",
        "model.add(Dense(5, activation=\"softmax\"))\n"
      ],
      "metadata": {
        "id": "HIQkZg7fhxBq"
      },
      "execution_count": 25,
      "outputs": []
    },
    {
      "cell_type": "code",
      "source": [
        "model.summary()\n"
      ],
      "metadata": {
        "colab": {
          "base_uri": "https://localhost:8080/"
        },
        "id": "VRPZ5Gfbh02b",
        "outputId": "51b1d8f9-00e0-4dc5-e5a6-2e6e349f8eda"
      },
      "execution_count": 26,
      "outputs": [
        {
          "output_type": "stream",
          "name": "stdout",
          "text": [
            "Model: \"sequential_1\"\n",
            "_________________________________________________________________\n",
            " Layer (type)                Output Shape              Param #   \n",
            "=================================================================\n",
            " conv2d_4 (Conv2D)           (None, 224, 224, 64)      4864      \n",
            "                                                                 \n",
            " max_pooling2d_4 (MaxPoolin  (None, 112, 112, 64)      0         \n",
            " g2D)                                                            \n",
            "                                                                 \n",
            " conv2d_5 (Conv2D)           (None, 112, 112, 64)      36928     \n",
            "                                                                 \n",
            " max_pooling2d_5 (MaxPoolin  (None, 56, 56, 64)        0         \n",
            " g2D)                                                            \n",
            "                                                                 \n",
            " conv2d_6 (Conv2D)           (None, 56, 56, 64)        36928     \n",
            "                                                                 \n",
            " max_pooling2d_6 (MaxPoolin  (None, 28, 28, 64)        0         \n",
            " g2D)                                                            \n",
            "                                                                 \n",
            " conv2d_7 (Conv2D)           (None, 28, 28, 64)        36928     \n",
            "                                                                 \n",
            " max_pooling2d_7 (MaxPoolin  (None, 14, 14, 64)        0         \n",
            " g2D)                                                            \n",
            "                                                                 \n",
            " flatten_1 (Flatten)         (None, 12544)             0         \n",
            "                                                                 \n",
            " dense_2 (Dense)             (None, 512)               6423040   \n",
            "                                                                 \n",
            " activation_1 (Activation)   (None, 512)               0         \n",
            "                                                                 \n",
            " dense_3 (Dense)             (None, 5)                 2565      \n",
            "                                                                 \n",
            "=================================================================\n",
            "Total params: 6541253 (24.95 MB)\n",
            "Trainable params: 6541253 (24.95 MB)\n",
            "Non-trainable params: 0 (0.00 Byte)\n",
            "_________________________________________________________________\n"
          ]
        }
      ]
    },
    {
      "cell_type": "code",
      "source": [
        "keras.utils.plot_model(\n",
        "\tmodel,\n",
        "\tshow_shapes = True,\n",
        "\tshow_dtype = True,\n",
        "\tshow_layer_activations = True\n",
        ")\n"
      ],
      "metadata": {
        "colab": {
          "base_uri": "https://localhost:8080/",
          "height": 253
        },
        "id": "aWf2EuRztEwB",
        "outputId": "8a0555fc-2fa8-46d7-b3f9-ffa9c7400141"
      },
      "execution_count": 28,
      "outputs": [
        {
          "output_type": "error",
          "ename": "NameError",
          "evalue": "name 'keras' is not defined",
          "traceback": [
            "\u001b[0;31m---------------------------------------------------------------------------\u001b[0m",
            "\u001b[0;31mNameError\u001b[0m                                 Traceback (most recent call last)",
            "\u001b[0;32m<ipython-input-28-c3783bd67e8f>\u001b[0m in \u001b[0;36m<cell line: 1>\u001b[0;34m()\u001b[0m\n\u001b[0;32m----> 1\u001b[0;31m keras.utils.plot_model( \n\u001b[0m\u001b[1;32m      2\u001b[0m         \u001b[0mmodel\u001b[0m\u001b[0;34m,\u001b[0m\u001b[0;34m\u001b[0m\u001b[0;34m\u001b[0m\u001b[0m\n\u001b[1;32m      3\u001b[0m         \u001b[0mshow_shapes\u001b[0m \u001b[0;34m=\u001b[0m \u001b[0;32mTrue\u001b[0m\u001b[0;34m,\u001b[0m\u001b[0;34m\u001b[0m\u001b[0;34m\u001b[0m\u001b[0m\n\u001b[1;32m      4\u001b[0m         \u001b[0mshow_dtype\u001b[0m \u001b[0;34m=\u001b[0m \u001b[0;32mTrue\u001b[0m\u001b[0;34m,\u001b[0m\u001b[0;34m\u001b[0m\u001b[0;34m\u001b[0m\u001b[0m\n\u001b[1;32m      5\u001b[0m         \u001b[0mshow_layer_activations\u001b[0m \u001b[0;34m=\u001b[0m \u001b[0;32mTrue\u001b[0m\u001b[0;34m\u001b[0m\u001b[0;34m\u001b[0m\u001b[0m\n",
            "\u001b[0;31mNameError\u001b[0m: name 'keras' is not defined"
          ]
        }
      ]
    },
    {
      "cell_type": "code",
      "source": [
        "model.compile(optimizer=tf.keras.optimizers.Adam(),\n",
        "\t\t\tloss='categorical_crossentropy', metrics=['accuracy'])\n"
      ],
      "metadata": {
        "id": "Yha9rRudiBpX"
      },
      "execution_count": 29,
      "outputs": []
    },
    {
      "cell_type": "code",
      "source": [
        "epochs=30\n",
        "model.fit(train_datagen,epochs=epochs,validation_data=test_datagen)\n"
      ],
      "metadata": {
        "colab": {
          "base_uri": "https://localhost:8080/"
        },
        "id": "2GlhV2dXiFJS",
        "outputId": "aea933a1-03d7-47ac-e014-c794e9b4124f"
      },
      "execution_count": null,
      "outputs": [
        {
          "output_type": "stream",
          "name": "stdout",
          "text": [
            "Epoch 1/30\n",
            "55/55 [==============================] - 698s 13s/step - loss: 1.3604 - accuracy: 0.3940 - val_loss: 1.1782 - val_accuracy: 0.4942\n",
            "Epoch 2/30\n",
            "55/55 [==============================] - 706s 13s/step - loss: 1.1535 - accuracy: 0.5259 - val_loss: 1.1277 - val_accuracy: 0.5360\n",
            "Epoch 3/30\n",
            "10/55 [====>.........................] - ETA: 8:27 - loss: 1.0911 - accuracy: 0.5562"
          ]
        }
      ]
    }
  ]
}